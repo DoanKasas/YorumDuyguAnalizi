{
 "cells": [
  {
   "cell_type": "code",
   "execution_count": 357,
   "metadata": {},
   "outputs": [],
   "source": [
    "import  urllib.request\n",
    "import re\n",
    "import io"
   ]
  },
  {
   "cell_type": "code",
   "execution_count": 358,
   "metadata": {},
   "outputs": [],
   "source": [
    "import json"
   ]
  },
  {
   "cell_type": "code",
   "execution_count": 359,
   "metadata": {},
   "outputs": [],
   "source": [
    "kategori = input(\"kategori girin :\")"
   ]
  },
  {
   "cell_type": "code",
   "execution_count": 360,
   "metadata": {},
   "outputs": [
    {
     "data": {
      "text/plain": [
       "'1711'"
      ]
     },
     "execution_count": 360,
     "metadata": {},
     "output_type": "execute_result"
    }
   ],
   "source": [
    "kategori"
   ]
  },
  {
   "cell_type": "code",
   "execution_count": 361,
   "metadata": {},
   "outputs": [],
   "source": [
    "url = \"https://www.hepsiburada.com/navigation/\" + kategori"
   ]
  },
  {
   "cell_type": "code",
   "execution_count": 362,
   "metadata": {},
   "outputs": [],
   "source": [
    "istek = urllib.request.Request(url)"
   ]
  },
  {
   "cell_type": "code",
   "execution_count": 363,
   "metadata": {},
   "outputs": [],
   "source": [
    "try:\n",
    "    cevap = urllib.request.urlopen(istek)\n",
    "    \n",
    "except:\n",
    "    print(\"hata oluştu\")"
   ]
  },
  {
   "cell_type": "code",
   "execution_count": 364,
   "metadata": {},
   "outputs": [],
   "source": [
    "htmlBytes = cevap.read()\n",
    "htmlStr = htmlBytes.decode(\"utf8\")"
   ]
  },
  {
   "cell_type": "code",
   "execution_count": 365,
   "metadata": {},
   "outputs": [
    {
     "data": {
      "text/plain": [
       "'{\"items\":[{\"id\":1726,\"level\":1,\"parentId\":1711,\"categoryId\":\"2147483646\",\"title\":\"Bilgisayar/Tablet\"'"
      ]
     },
     "execution_count": 365,
     "metadata": {},
     "output_type": "execute_result"
    }
   ],
   "source": [
    "htmlStr[0:100]"
   ]
  },
  {
   "cell_type": "code",
   "execution_count": 366,
   "metadata": {},
   "outputs": [],
   "source": [
    "json_cevap = json.loads(htmlStr)"
   ]
  },
  {
   "cell_type": "code",
   "execution_count": 367,
   "metadata": {},
   "outputs": [
    {
     "data": {
      "text/plain": [
       "9"
      ]
     },
     "execution_count": 367,
     "metadata": {},
     "output_type": "execute_result"
    }
   ],
   "source": [
    "len(json_cevap[\"items\"])"
   ]
  },
  {
   "cell_type": "code",
   "execution_count": 368,
   "metadata": {},
   "outputs": [
    {
     "name": "stdout",
     "output_type": "stream",
     "text": [
      "Bilgisayar/Tablet\n",
      "Yazıcılar & Projeksiyon\n",
      "Telefon & Telefon Aksesuarları\n",
      "TV, Görüntü & Ses Sistemleri\n",
      "Beyaz Eşya\n",
      "Elektrikli Ev Aletleri\n",
      "Foto & Kamera\n",
      "Klima ve Isıtıcılar\n",
      "Oyun & Oyun Konsolları\n"
     ]
    }
   ],
   "source": [
    "kategoriler=[]\n",
    "for item in json_cevap['items']:\n",
    "        print(item['title'])\n",
    "        kategoriler.append(item['title'])"
   ]
  },
  {
   "cell_type": "code",
   "execution_count": 369,
   "metadata": {},
   "outputs": [
    {
     "name": "stdout",
     "output_type": "stream",
     "text": [
      "Bilgisayar/Tablet\n",
      "Yazıcılar & Projeksiyon\n",
      "Telefon & Telefon Aksesuarları\n",
      "TV, Görüntü & Ses Sistemleri\n",
      "Beyaz Eşya\n",
      "Elektrikli Ev Aletleri\n",
      "Foto & Kamera\n",
      "Klima ve Isıtıcılar\n",
      "Oyun & Oyun Konsolları\n"
     ]
    }
   ],
   "source": [
    "i = 0\n",
    "for i in range(len(kategoriler)):\n",
    "    print(kategoriler[i])\n",
    "    i = i+1\n"
   ]
  },
  {
   "cell_type": "code",
   "execution_count": 370,
   "metadata": {},
   "outputs": [],
   "source": [
    "kategori2 = input(\"kategorilerden birini girin :\")"
   ]
  },
  {
   "cell_type": "code",
   "execution_count": 371,
   "metadata": {},
   "outputs": [
    {
     "data": {
      "text/plain": [
       "'Telefon & Telefon Aksesuarları'"
      ]
     },
     "execution_count": 371,
     "metadata": {},
     "output_type": "execute_result"
    }
   ],
   "source": [
    "kategori2"
   ]
  },
  {
   "cell_type": "code",
   "execution_count": null,
   "metadata": {},
   "outputs": [],
   "source": []
  },
  {
   "cell_type": "code",
   "execution_count": 372,
   "metadata": {},
   "outputs": [],
   "source": [
    "istek = urllib.request.Request(url)"
   ]
  },
  {
   "cell_type": "code",
   "execution_count": 373,
   "metadata": {},
   "outputs": [],
   "source": [
    "try:\n",
    "    cevap = urllib.request.urlopen(istek)\n",
    "    \n",
    "except:\n",
    "    print(\"hata oluştu\")"
   ]
  },
  {
   "cell_type": "code",
   "execution_count": 374,
   "metadata": {},
   "outputs": [
    {
     "data": {
      "text/plain": [
       "<http.client.HTTPResponse at 0x28ac7192cc0>"
      ]
     },
     "execution_count": 374,
     "metadata": {},
     "output_type": "execute_result"
    }
   ],
   "source": [
    "cevap"
   ]
  },
  {
   "cell_type": "code",
   "execution_count": 375,
   "metadata": {},
   "outputs": [],
   "source": [
    "htmlBytes = cevap.read()\n",
    "htmlStr = htmlBytes.decode(\"utf8\")"
   ]
  },
  {
   "cell_type": "markdown",
   "metadata": {},
   "source": [
    "\n"
   ]
  },
  {
   "cell_type": "code",
   "execution_count": 376,
   "metadata": {},
   "outputs": [
    {
     "data": {
      "text/plain": [
       "'{\"items\":[{\"id\":1726,\"level\":1,\"parentId\":1711,\"categoryId\":\"2147483646\",\"title\":\"Bilgisayar/Tablet\"'"
      ]
     },
     "execution_count": 376,
     "metadata": {},
     "output_type": "execute_result"
    }
   ],
   "source": [
    "htmlStr[0:100]"
   ]
  },
  {
   "cell_type": "code",
   "execution_count": 377,
   "metadata": {},
   "outputs": [],
   "source": [
    "json_cevap = json.loads(htmlStr)"
   ]
  },
  {
   "cell_type": "code",
   "execution_count": 378,
   "metadata": {},
   "outputs": [
    {
     "data": {
      "text/plain": [
       "9"
      ]
     },
     "execution_count": 378,
     "metadata": {},
     "output_type": "execute_result"
    }
   ],
   "source": [
    "len(json_cevap[\"items\"])"
   ]
  },
  {
   "cell_type": "code",
   "execution_count": null,
   "metadata": {},
   "outputs": [],
   "source": []
  },
  {
   "cell_type": "code",
   "execution_count": 379,
   "metadata": {},
   "outputs": [
    {
     "name": "stdout",
     "output_type": "stream",
     "text": [
      "Bilgisayar/Tablet\n",
      "Yazıcılar & Projeksiyon\n",
      "Telefon & Telefon Aksesuarları\n",
      "TV, Görüntü & Ses Sistemleri\n",
      "Beyaz Eşya\n",
      "Elektrikli Ev Aletleri\n",
      "Foto & Kamera\n",
      "Klima ve Isıtıcılar\n",
      "Oyun & Oyun Konsolları\n"
     ]
    }
   ],
   "source": [
    "kategori_level_1=[]\n",
    "kategori_level_2=[]\n",
    "kategori_level_3=[]\n",
    "kategori_level_4=[]\n",
    "kategoriler = []\n",
    "\n",
    "if (kategori == '1711'):\n",
    "    for item in json_cevap['items']:\n",
    "        print(item['title'])\n",
    "        if(item['title'] == kategori2):\n",
    "            if(item['url']):\n",
    "                kategori_level_1.append(item['url'])\n",
    "                for child in item['children']:\n",
    "                    for child2 in child['children']:\n",
    "                        if(child2['url']):\n",
    "                            kategori_level_2.append(child2['url'])\n",
    "                            for child3 in child2['children']:\n",
    "                                if(child3['url']):\n",
    "                                    kategori_level_3.append(child3['url'])\n",
    "    kategoriler.append(kategori_level_1)\n",
    "    kategoriler.append(kategori_level_2)\n",
    "    kategoriler.append(kategori_level_3)\n",
    "    kategoriler.append(kategori_level_4)\n",
    "else :\n",
    "    for item in json_cevap['items']:\n",
    "            for child in item['children']:\n",
    "                print(child['title'])\n",
    "                if (child['title'] == kategori2):\n",
    "                    kategori_level_1.append(child['url'])\n",
    "                for child2 in child['children']:\n",
    "                    if (child2['url']):\n",
    "                        kategori_level_2.append(child2['url'])\n",
    "                    if (len(child2['children']) > 0):\n",
    "                        for child3 in child2['children']:\n",
    "                            kategori_level_3.append(child3['url'])\n",
    "                            for child4 in child3['children']:\n",
    "                                kategori_level_4.append(child4['url'])\n",
    "            break\n",
    "    kategoriler.append(kategori_level_2)\n",
    "    kategoriler.append(kategori_level_3)\n",
    "    kategoriler.append(kategori_level_4)"
   ]
  },
  {
   "cell_type": "code",
   "execution_count": 380,
   "metadata": {},
   "outputs": [],
   "source": [
    "kategoriler_liste = []\n",
    "for kategori in kategoriler:\n",
    "    for kate in kategori:\n",
    "        kategoriler_liste.append(kate.split('?')[0])"
   ]
  },
  {
   "cell_type": "code",
   "execution_count": 381,
   "metadata": {},
   "outputs": [
    {
     "data": {
      "text/plain": [
       "['/telefonlar-c-2147483642']"
      ]
     },
     "execution_count": 381,
     "metadata": {},
     "output_type": "execute_result"
    }
   ],
   "source": [
    "kategori_level_1"
   ]
  },
  {
   "cell_type": "code",
   "execution_count": 382,
   "metadata": {},
   "outputs": [
    {
     "data": {
      "text/plain": [
       "['/cep-telefonlari-c-371965',\n",
       " '/cep-telefonu-aksesuarlari-c-371967',\n",
       " '/akilli-saatler-c-60003676',\n",
       " '/akilli-bileklikler-c-60004670',\n",
       " '/tasinabilir-pilli-sarj-cihazlari-c-60004584',\n",
       " '/bluetooth-kulakliklar-c-16218',\n",
       " '/cep-telefonu-kiliflari-c-16102',\n",
       " '/ekran-koruyucu-c-80315023',\n",
       " '/sarj-cihazlari-c-16113',\n",
       " '/telefon-kablolari-c-29010123',\n",
       " '/tasinabilir-hoparlorler-c-376097',\n",
       " '/selfie-ozcekim-cubuklari-c-60005237',\n",
       " '/telsiz-masaustu-telefonlar-c-371966',\n",
       " '/hepsiglobal?kategori=2147483642']"
      ]
     },
     "execution_count": 382,
     "metadata": {},
     "output_type": "execute_result"
    }
   ],
   "source": [
    "kategori_level_2"
   ]
  },
  {
   "cell_type": "code",
   "execution_count": 383,
   "metadata": {},
   "outputs": [
    {
     "data": {
      "text/plain": [
       "['/android-telefonlar-c-60005201',\n",
       " '/samsung/android-telefonlar-c-60005201',\n",
       " '/huawei/android-telefonlar-c-60005201',\n",
       " '/xiaomi/android-telefonlar-c-60005201',\n",
       " '/iphone-ios-telefonlar-c-60005202',\n",
       " '/eskiyi-getir-yeniyi-gotur',\n",
       " '/diger-telefonlar-c-60005204',\n",
       " '/ikinci-el-cep-telefonu-c-60006410',\n",
       " '/akilli-saatler-c-60003676',\n",
       " '/akilli-bileklikler-c-60004670',\n",
       " '/tasinabilir-pilli-sarj-cihazlari-c-60004584',\n",
       " '/bluetooth-kulakliklar-c-16218',\n",
       " '/cep-telefonu-kiliflari-c-16102',\n",
       " '/sarj-cihazlari-c-16113',\n",
       " '/telefon-kablolari-c-29010123',\n",
       " '/arac-ici-telefon-tutacaklari-c-29004492',\n",
       " '/ekran-koruyucu-c-80315023',\n",
       " '/kulaklik-setleri-c-16117',\n",
       " '/tasinabilir-hoparlorler-c-376097',\n",
       " '/telefon-oyun-aksesuarlari-c-60001038',\n",
       " '/selfie-ozcekim-cubuklari-c-60005237',\n",
       " '/tasarim-kiliflar-c-60003561',\n",
       " '/sanal-gerceklik-gozlukleri-c-60005915',\n",
       " '/bluetooth-arac-kitleri-c-16217',\n",
       " '/giyilebilir-teknoloji-aksesuarlari-c-375468',\n",
       " '/bluetooth-kulaklik-aksesuarlari-c-80413102',\n",
       " '/cep-telefonu-yedek-parcalari-c-60007722',\n",
       " '/diger-telefon-aksesuarlari-c-60002300',\n",
       " '/gps-takip-cihazlari-c-60004613',\n",
       " '/akilli-saatler-c-60003676',\n",
       " '/akilli-saatler-c-60003676?filtreler=cinsiyet:Erkek%E2%82%AC20%E2%82%ACC3%E2%82%AC87ocuk,K%E2%82%ACC4%E2%82%ACB1z%E2%82%AC20%E2%82%ACC3%E2%82%AC87ocuk',\n",
       " '/giyilebilir-teknoloji-aksesuarlari-c-375468',\n",
       " '/tasarim-kiliflar-c-60003561',\n",
       " '/cep-telefonu-kiliflari-c-16102']"
      ]
     },
     "execution_count": 383,
     "metadata": {},
     "output_type": "execute_result"
    }
   ],
   "source": [
    "kategori_level_3"
   ]
  },
  {
   "cell_type": "code",
   "execution_count": 384,
   "metadata": {},
   "outputs": [
    {
     "data": {
      "text/plain": [
       "[]"
      ]
     },
     "execution_count": 384,
     "metadata": {},
     "output_type": "execute_result"
    }
   ],
   "source": [
    "kategori_level_4"
   ]
  },
  {
   "cell_type": "code",
   "execution_count": 385,
   "metadata": {},
   "outputs": [
    {
     "data": {
      "text/plain": [
       "['/telefonlar-c-2147483642',\n",
       " '/cep-telefonlari-c-371965',\n",
       " '/cep-telefonu-aksesuarlari-c-371967',\n",
       " '/akilli-saatler-c-60003676',\n",
       " '/akilli-bileklikler-c-60004670',\n",
       " '/tasinabilir-pilli-sarj-cihazlari-c-60004584',\n",
       " '/bluetooth-kulakliklar-c-16218',\n",
       " '/cep-telefonu-kiliflari-c-16102',\n",
       " '/ekran-koruyucu-c-80315023',\n",
       " '/sarj-cihazlari-c-16113',\n",
       " '/telefon-kablolari-c-29010123',\n",
       " '/tasinabilir-hoparlorler-c-376097',\n",
       " '/selfie-ozcekim-cubuklari-c-60005237',\n",
       " '/telsiz-masaustu-telefonlar-c-371966',\n",
       " '/hepsiglobal',\n",
       " '/android-telefonlar-c-60005201',\n",
       " '/samsung/android-telefonlar-c-60005201',\n",
       " '/huawei/android-telefonlar-c-60005201',\n",
       " '/xiaomi/android-telefonlar-c-60005201',\n",
       " '/iphone-ios-telefonlar-c-60005202',\n",
       " '/eskiyi-getir-yeniyi-gotur',\n",
       " '/diger-telefonlar-c-60005204',\n",
       " '/ikinci-el-cep-telefonu-c-60006410',\n",
       " '/akilli-saatler-c-60003676',\n",
       " '/akilli-bileklikler-c-60004670',\n",
       " '/tasinabilir-pilli-sarj-cihazlari-c-60004584',\n",
       " '/bluetooth-kulakliklar-c-16218',\n",
       " '/cep-telefonu-kiliflari-c-16102',\n",
       " '/sarj-cihazlari-c-16113',\n",
       " '/telefon-kablolari-c-29010123',\n",
       " '/arac-ici-telefon-tutacaklari-c-29004492',\n",
       " '/ekran-koruyucu-c-80315023',\n",
       " '/kulaklik-setleri-c-16117',\n",
       " '/tasinabilir-hoparlorler-c-376097',\n",
       " '/telefon-oyun-aksesuarlari-c-60001038',\n",
       " '/selfie-ozcekim-cubuklari-c-60005237',\n",
       " '/tasarim-kiliflar-c-60003561',\n",
       " '/sanal-gerceklik-gozlukleri-c-60005915',\n",
       " '/bluetooth-arac-kitleri-c-16217',\n",
       " '/giyilebilir-teknoloji-aksesuarlari-c-375468',\n",
       " '/bluetooth-kulaklik-aksesuarlari-c-80413102',\n",
       " '/cep-telefonu-yedek-parcalari-c-60007722',\n",
       " '/diger-telefon-aksesuarlari-c-60002300',\n",
       " '/gps-takip-cihazlari-c-60004613',\n",
       " '/akilli-saatler-c-60003676',\n",
       " '/akilli-saatler-c-60003676',\n",
       " '/giyilebilir-teknoloji-aksesuarlari-c-375468',\n",
       " '/tasarim-kiliflar-c-60003561',\n",
       " '/cep-telefonu-kiliflari-c-16102']"
      ]
     },
     "execution_count": 385,
     "metadata": {},
     "output_type": "execute_result"
    }
   ],
   "source": [
    "kategoriler_liste"
   ]
  },
  {
   "cell_type": "code",
   "execution_count": 386,
   "metadata": {},
   "outputs": [
    {
     "data": {
      "text/plain": [
       "49"
      ]
     },
     "execution_count": 386,
     "metadata": {},
     "output_type": "execute_result"
    }
   ],
   "source": [
    "len(kategoriler_liste)"
   ]
  },
  {
   "cell_type": "code",
   "execution_count": 387,
   "metadata": {},
   "outputs": [],
   "source": [
    "with open(\"kategoriler_liste.txt\",\"w\") as txt_file:\n",
    "    for line in kategoriler_liste:\n",
    "        txt_file.write(line + \"\\n\")"
   ]
  },
  {
   "cell_type": "code",
   "execution_count": null,
   "metadata": {},
   "outputs": [],
   "source": []
  },
  {
   "cell_type": "code",
   "execution_count": null,
   "metadata": {},
   "outputs": [],
   "source": []
  }
 ],
 "metadata": {
  "kernelspec": {
   "display_name": "Python 3",
   "language": "python",
   "name": "python3"
  },
  "language_info": {
   "codemirror_mode": {
    "name": "ipython",
    "version": 3
   },
   "file_extension": ".py",
   "mimetype": "text/x-python",
   "name": "python",
   "nbconvert_exporter": "python",
   "pygments_lexer": "ipython3",
   "version": "3.7.0"
  }
 },
 "nbformat": 4,
 "nbformat_minor": 2
}
