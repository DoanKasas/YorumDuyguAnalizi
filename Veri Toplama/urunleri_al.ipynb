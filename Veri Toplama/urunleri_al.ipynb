{
 "cells": [
  {
   "cell_type": "code",
   "execution_count": 59,
   "metadata": {},
   "outputs": [],
   "source": [
    "import requests\n",
    "import re\n",
    "import io"
   ]
  },
  {
   "cell_type": "code",
   "execution_count": 60,
   "metadata": {},
   "outputs": [],
   "source": [
    "url = \"https://www.hepsiburada.com\"\n",
    "urunler = set()"
   ]
  },
  {
   "cell_type": "code",
   "execution_count": 61,
   "metadata": {},
   "outputs": [],
   "source": [
    "f = open(\"kategoriler_liste.txt\", \"r\")\n",
    "satirlar = f.read().split('\\n')"
   ]
  },
  {
   "cell_type": "code",
   "execution_count": 62,
   "metadata": {},
   "outputs": [],
   "source": [
    " yeni_url = url + satirlar[sayi2]"
   ]
  },
  {
   "cell_type": "code",
   "execution_count": 63,
   "metadata": {},
   "outputs": [
    {
     "data": {
      "text/plain": [
       "'https://www.hepsiburada.com/cep-telefonlari-c-371965'"
      ]
     },
     "execution_count": 63,
     "metadata": {},
     "output_type": "execute_result"
    }
   ],
   "source": [
    "yeni_url"
   ]
  },
  {
   "cell_type": "code",
   "execution_count": 64,
   "metadata": {},
   "outputs": [
    {
     "name": "stdout",
     "output_type": "stream",
     "text": [
      "sayfa sayisi: 28\n",
      "https://www.hepsiburada.com/cep-telefonlari-c-371965?sayfa=1\n",
      "https://www.hepsiburada.com/cep-telefonlari-c-371965?sayfa=2\n",
      "https://www.hepsiburada.com/cep-telefonlari-c-371965?sayfa=3\n"
     ]
    },
    {
     "ename": "KeyboardInterrupt",
     "evalue": "",
     "output_type": "error",
     "traceback": [
      "\u001b[1;31m---------------------------------------------------------------------------\u001b[0m",
      "\u001b[1;31mKeyboardInterrupt\u001b[0m                         Traceback (most recent call last)",
      "\u001b[1;32m<ipython-input-64-9417655d9c25>\u001b[0m in \u001b[0;36m<module>\u001b[1;34m()\u001b[0m\n\u001b[0;32m     20\u001b[0m \u001b[1;33m\u001b[0m\u001b[0m\n\u001b[0;32m     21\u001b[0m             \u001b[0maranan2\u001b[0m \u001b[1;33m=\u001b[0m \u001b[1;34m'\"(.*?)\" data-sku=\"(.*?)\"'\u001b[0m\u001b[1;33m\u001b[0m\u001b[0m\n\u001b[1;32m---> 22\u001b[1;33m             \u001b[0msonuc2\u001b[0m \u001b[1;33m=\u001b[0m \u001b[0mre\u001b[0m\u001b[1;33m.\u001b[0m\u001b[0mfindall\u001b[0m\u001b[1;33m(\u001b[0m\u001b[0maranan2\u001b[0m\u001b[1;33m,\u001b[0m \u001b[0mhtmlStr2\u001b[0m\u001b[1;33m)\u001b[0m\u001b[1;33m\u001b[0m\u001b[0m\n\u001b[0m\u001b[0;32m     23\u001b[0m \u001b[1;33m\u001b[0m\u001b[0m\n\u001b[0;32m     24\u001b[0m             \u001b[1;32mfor\u001b[0m \u001b[0murun\u001b[0m \u001b[1;32min\u001b[0m \u001b[0msonuc2\u001b[0m\u001b[1;33m:\u001b[0m\u001b[1;33m\u001b[0m\u001b[0m\n",
      "\u001b[1;31mKeyboardInterrupt\u001b[0m: "
     ]
    }
   ],
   "source": [
    "\n",
    "for sayi2 in range(1):\n",
    "    yeni_url = url + satirlar[sayi2]\n",
    "    \n",
    "    htmlStr = requests.get(yeni_url).text\n",
    "\n",
    "    aranan = '<a href=\"(.*?)-c-(.*?)sayfa=(.*?)\" class=\"page-(.*?)\">(.*?)</a>'\n",
    "    sayfalar = re.findall(aranan, htmlStr)\n",
    "    if len(sayfalar) > 0:\n",
    "        sayfa_sayisi = int(sayfalar[-1][2])\n",
    "        print('sayfa sayisi: ' + str(sayfa_sayisi))\n",
    "        sayfa = 1\n",
    "        for sayi in range(sayfa_sayisi):\n",
    "            url2 = yeni_url + '?sayfa=' + str(sayi + 1)\n",
    "            print(url2)\n",
    "            try:\n",
    "                htmlStr2 = requests.get(url2).text\n",
    "            except:\n",
    "                print(\"hata oluştu\")\n",
    "\n",
    "            aranan2 = '\"(.*?)\" data-sku=\"(.*?)\"'\n",
    "            sonuc2 = re.findall(aranan2, htmlStr2)\n",
    "\n",
    "            for urun in sonuc2:\n",
    "                if urun[0] not in urunler:\n",
    "                    urunler.add(urun[0])\n",
    "    else:\n",
    "        url3 = yeni_url\n",
    "        print(url3)\n",
    "        try:\n",
    "            htmlStr3 = requests.get(url3).text\n",
    "        except:\n",
    "            print(\"hata oluştu\")\n",
    "\n",
    "        aranan3 = '\"(.*?)\" data-sku=\"(.*?)\"'\n",
    "        sonuc3 = re.findall(aranan3, htmlStr3)\n",
    "\n",
    "        for word in sonuc3:\n",
    "            if word[0] not in urunler:\n",
    "                urunler.add(word[0])\n",
    "                print(word[0])\n",
    "            print(url2)\n",
    "    print(yeni_url)"
   ]
  },
  {
   "cell_type": "code",
   "execution_count": 65,
   "metadata": {},
   "outputs": [
    {
     "data": {
      "text/plain": [
       "48"
      ]
     },
     "execution_count": 65,
     "metadata": {},
     "output_type": "execute_result"
    }
   ],
   "source": [
    "len(urunler)"
   ]
  },
  {
   "cell_type": "code",
   "execution_count": 58,
   "metadata": {},
   "outputs": [],
   "source": [
    "with open(\"urunler_liste.txt\",\"w\") as txt_file:\n",
    "    for line in urunler:\n",
    "        txt_file.write(line + \"\\n\")"
   ]
  },
  {
   "cell_type": "code",
   "execution_count": null,
   "metadata": {},
   "outputs": [],
   "source": []
  }
 ],
 "metadata": {
  "kernelspec": {
   "display_name": "Python 3",
   "language": "python",
   "name": "python3"
  },
  "language_info": {
   "codemirror_mode": {
    "name": "ipython",
    "version": 3
   },
   "file_extension": ".py",
   "mimetype": "text/x-python",
   "name": "python",
   "nbconvert_exporter": "python",
   "pygments_lexer": "ipython3",
   "version": "3.7.0"
  }
 },
 "nbformat": 4,
 "nbformat_minor": 2
}
